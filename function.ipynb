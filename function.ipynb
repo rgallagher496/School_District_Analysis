{
 "cells": [
  {
   "cell_type": "code",
   "execution_count": 1,
   "source": [
    "def say_hello():\r\n",
    "    print(\"Hello!\")\r\n",
    "say_hello()"
   ],
   "outputs": [
    {
     "output_type": "stream",
     "name": "stdout",
     "text": [
      "Hello!\n"
     ]
    }
   ],
   "metadata": {}
  },
  {
   "cell_type": "code",
   "execution_count": 2,
   "source": [
    "def say_something(something):\r\n",
    "    print(something)\r\n",
    "say_something(\"Hello World!\")"
   ],
   "outputs": [
    {
     "output_type": "stream",
     "name": "stdout",
     "text": [
      "Hello World!\n"
     ]
    }
   ],
   "metadata": {}
  },
  {
   "cell_type": "code",
   "execution_count": 3,
   "source": [
    "Jane_says = \"Hi, my name is Jane I'm learning Python!\"\r\n",
    "say_something(Jane_says)"
   ],
   "outputs": [
    {
     "output_type": "stream",
     "name": "stdout",
     "text": [
      "Hi, my name is Jane I'm learning Python!\n"
     ]
    }
   ],
   "metadata": {}
  },
  {
   "cell_type": "code",
   "execution_count": 4,
   "source": [
    "# Define a function that calculates the percentage of students that passed both # math and reading and prints the passing percentage to the output when the\r\n",
    "# function is called.\r\n",
    "def passing_math_percent(pass_math_count, student_count):\r\n",
    "    return pass_math_count / float(student_count) * 100\r\n",
    "passing_math_count = 29370\r\n",
    "total_student_count = 39170\r\n",
    "# Call the function.\r\n",
    "passing_math_percent(passing_math_count, total_student_count)"
   ],
   "outputs": [
    {
     "output_type": "execute_result",
     "data": {
      "text/plain": [
       "74.9808526933878"
      ]
     },
     "metadata": {},
     "execution_count": 4
    }
   ],
   "metadata": {}
  },
  {
   "cell_type": "code",
   "execution_count": 5,
   "source": [
    "#A list of my grades.\r\n",
    "my_grades = ['B','C','B','D']\r\n",
    "import pandas as pd\r\n",
    "my_grades = pd.Series(my_grades)\r\n",
    "my_grades"
   ],
   "outputs": [
    {
     "output_type": "execute_result",
     "data": {
      "text/plain": [
       "0    B\n",
       "1    C\n",
       "2    B\n",
       "3    D\n",
       "dtype: object"
      ]
     },
     "metadata": {},
     "execution_count": 5
    }
   ],
   "metadata": {}
  },
  {
   "cell_type": "code",
   "execution_count": 6,
   "source": [
    "# Change the grades by one letter grade.\r\n",
    "my_grades.map({'B': 'A', 'C': 'B', 'D': 'C'})"
   ],
   "outputs": [
    {
     "output_type": "execute_result",
     "data": {
      "text/plain": [
       "0    A\n",
       "1    B\n",
       "2    A\n",
       "3    C\n",
       "dtype: object"
      ]
     },
     "metadata": {},
     "execution_count": 6
    }
   ],
   "metadata": {}
  },
  {
   "cell_type": "code",
   "execution_count": 7,
   "source": [
    "# Using the format() function.\r\n",
    "my_grades = [92.34, 84.56, 86.78, 98.32]\r\n",
    "\r\n",
    "for grade in my_grades:\r\n",
    "    print(\"{:.0f}\".format(grade))"
   ],
   "outputs": [
    {
     "output_type": "stream",
     "name": "stdout",
     "text": [
      "92\n",
      "85\n",
      "87\n",
      "98\n"
     ]
    }
   ],
   "metadata": {}
  },
  {
   "cell_type": "code",
   "execution_count": 8,
   "source": [
    "# Convert the numerical grades to a Series.\r\n",
    "my_grades = pd.Series([92.34, 84.56, 86.78, 78.32])\r\n",
    "my_grades"
   ],
   "outputs": [
    {
     "output_type": "execute_result",
     "data": {
      "text/plain": [
       "0    92.34\n",
       "1    84.56\n",
       "2    86.78\n",
       "3    78.32\n",
       "dtype: float64"
      ]
     },
     "metadata": {},
     "execution_count": 8
    }
   ],
   "metadata": {}
  },
  {
   "cell_type": "code",
   "execution_count": 9,
   "source": [
    "# Format the grades to the nearest whole number percent.\r\n",
    "my_grades.map(\"{:.0f}\".format)"
   ],
   "outputs": [
    {
     "output_type": "execute_result",
     "data": {
      "text/plain": [
       "0    92\n",
       "1    85\n",
       "2    87\n",
       "3    78\n",
       "dtype: object"
      ]
     },
     "metadata": {},
     "execution_count": 9
    }
   ],
   "metadata": {}
  },
  {
   "cell_type": "code",
   "execution_count": 4,
   "source": [
    "class Cat:\r\n",
    "    def __init__(self,name):\r\n",
    "        self.name = name\r\n",
    "first_cat = Cat('Felix')\r\n",
    "print(first_cat.name)\r\n",
    "second_cat = Cat(\"Garfield\")\r\n",
    "print(second_cat.name)"
   ],
   "outputs": [
    {
     "output_type": "stream",
     "name": "stdout",
     "text": [
      "Felix\n",
      "Garfield\n"
     ]
    }
   ],
   "metadata": {}
  },
  {
   "cell_type": "code",
   "execution_count": 7,
   "source": [
    "class Dog:\r\n",
    "    def __init__(self,name,color,sound):\r\n",
    "        self.name = name\r\n",
    "        self.color = color\r\n",
    "        self.sound = sound\r\n",
    "    def bark(self):\r\n",
    "        return self.sound + ' ' + self.sound\r\n",
    "first_dog = Dog('Fido','brown','woof!')\r\n",
    "print(first_dog.name)\r\n",
    "print(first_dog.color)\r\n",
    "print(first_dog.bark())\r\n",
    "second_dog = Dog('Lady','blonde','arf!')\r\n",
    "print(second_dog.name)\r\n",
    "print(second_dog.color)\r\n",
    "print(second_dog.bark())"
   ],
   "outputs": [
    {
     "output_type": "stream",
     "name": "stdout",
     "text": [
      "Fido\n",
      "brown\n",
      "woof! woof!\n",
      "Lady\n",
      "blonde\n",
      "arf! arf!\n"
     ]
    }
   ],
   "metadata": {}
  }
 ],
 "metadata": {
  "kernelspec": {
   "name": "python3",
   "display_name": "Python 3.7.10 64-bit ('PythonData': conda)"
  },
  "language_info": {
   "codemirror_mode": {
    "name": "ipython",
    "version": 3
   },
   "file_extension": ".py",
   "mimetype": "text/x-python",
   "name": "python",
   "nbconvert_exporter": "python",
   "pygments_lexer": "ipython3",
   "version": "3.7.10"
  },
  "interpreter": {
   "hash": "f1e26e055cfecb172bd3852981f4ab7fb87fa78fe106dfb5f417fe8cc675a399"
  }
 },
 "nbformat": 4,
 "nbformat_minor": 5
}